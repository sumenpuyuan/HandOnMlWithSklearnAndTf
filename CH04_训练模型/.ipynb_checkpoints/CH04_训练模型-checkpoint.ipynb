{
 "cells": [
  {
   "cell_type": "markdown",
   "metadata": {},
   "source": [
    "## 正规方程##"
   ]
  },
  {
   "cell_type": "code",
   "execution_count": 1,
   "metadata": {},
   "outputs": [
    {
     "data": {
      "text/plain": [
       "<matplotlib.collections.PathCollection at 0x2003e4a4828>"
      ]
     },
     "execution_count": 1,
     "metadata": {},
     "output_type": "execute_result"
    },
    {
     "data": {
      "image/png": "[encoded data removed]",
      "text/plain": [
       "<Figure size 432x288 with 1 Axes>"
      ]
     },
     "metadata": {},
     "output_type": "display_data"
    }
   ],
   "source": [
    "import numpy as np\n",
    "import matplotlib.pyplot as plt\n",
    "%matplotlib inline\n",
    "x=2*np.random.rand(100,1)\n",
    "y=4+3*x+np.random.randn(100,1)#这个n表示的是生成的参数具有正态分布\n",
    "f1 = plt.figure(1)\n",
    "plt.subplot(211)\n",
    "plt.scatter(x,y)\n"
   ]
  },
  {
   "cell_type": "markdown",
   "metadata": {},
   "source": [
    "使用np.linalg.inv计算矩阵逆，dot计算矩阵的乘法"
   ]
  },
  {
   "cell_type": "code",
   "execution_count": 2,
   "metadata": {},
   "outputs": [
    {
     "name": "stdout",
     "output_type": "stream",
     "text": [
      "[[1.         1.981836  ]\n",
      " [1.         0.18446974]\n",
      " [1.         1.49999089]\n",
      " [1.         1.91211177]\n",
      " [1.         0.62706063]\n",
      " [1.         0.8028824 ]\n",
      " [1.         0.71343183]\n",
      " [1.         1.69088955]\n",
      " [1.         0.85514752]\n",
      " [1.         0.9500202 ]\n",
      " [1.         1.1968504 ]\n",
      " [1.         1.2286202 ]\n",
      " [1.         0.04617426]\n",
      " [1.         1.58358168]\n",
      " [1.         0.42226664]\n",
      " [1.         0.94262542]\n",
      " [1.         0.74277585]\n",
      " [1.         0.04071769]\n",
      " [1.         0.07328159]\n",
      " [1.         1.81345084]\n",
      " [1.         1.88033137]\n",
      " [1.         0.42614305]\n",
      " [1.         1.21287485]\n",
      " [1.         0.86000995]\n",
      " [1.         1.79020152]\n",
      " [1.         1.44748379]\n",
      " [1.         1.56304034]\n",
      " [1.         1.64763632]\n",
      " [1.         1.2651369 ]\n",
      " [1.         1.4760806 ]\n",
      " [1.         0.74052033]\n",
      " [1.         1.75978299]\n",
      " [1.         1.23472312]\n",
      " [1.         0.67300227]\n",
      " [1.         1.3071534 ]\n",
      " [1.         0.52598037]\n",
      " [1.         1.95869128]\n",
      " [1.         1.80407042]\n",
      " [1.         1.06976514]\n",
      " [1.         0.87843967]\n",
      " [1.         1.83750839]\n",
      " [1.         1.75819763]\n",
      " [1.         1.61439266]\n",
      " [1.         1.58020828]\n",
      " [1.         1.37630814]\n",
      " [1.         1.48537767]\n",
      " [1.         0.56304893]\n",
      " [1.         1.07886072]\n",
      " [1.         0.51794554]\n",
      " [1.         0.22333008]\n",
      " [1.         1.97277417]\n",
      " [1.         1.93038694]\n",
      " [1.         1.54098696]\n",
      " [1.         1.84792275]\n",
      " [1.         1.03615369]\n",
      " [1.         1.76075311]\n",
      " [1.         0.30629386]\n",
      " [1.         0.46282061]\n",
      " [1.         1.27810502]\n",
      " [1.         0.49907758]\n",
      " [1.         1.48326677]\n",
      " [1.         1.93236275]\n",
      " [1.         0.57100396]\n",
      " [1.         0.81493057]\n",
      " [1.         1.87106104]\n",
      " [1.         1.5356158 ]\n",
      " [1.         0.53394285]\n",
      " [1.         0.66952795]\n",
      " [1.         1.35007199]\n",
      " [1.         0.90008388]\n",
      " [1.         0.29304452]\n",
      " [1.         0.85932565]\n",
      " [1.         0.27358412]\n",
      " [1.         0.04135552]\n",
      " [1.         0.40496127]\n",
      " [1.         1.15882412]\n",
      " [1.         0.23914338]\n",
      " [1.         1.90414057]\n",
      " [1.         0.93500779]\n",
      " [1.         1.96818747]\n",
      " [1.         0.69504513]\n",
      " [1.         1.16181865]\n",
      " [1.         1.60388893]\n",
      " [1.         0.32879074]\n",
      " [1.         0.8392783 ]\n",
      " [1.         0.98652969]\n",
      " [1.         0.68795308]\n",
      " [1.         0.0634405 ]\n",
      " [1.         0.78456183]\n",
      " [1.         0.98480114]\n",
      " [1.         1.66275154]\n",
      " [1.         0.70903485]\n",
      " [1.         0.31644567]\n",
      " [1.         0.90481302]\n",
      " [1.         0.0860302 ]\n",
      " [1.         0.05458827]\n",
      " [1.         0.2871766 ]\n",
      " [1.         1.31192408]\n",
      " [1.         0.41675976]\n",
      " [1.         0.56221085]]\n",
      "[[4.07290357]\n",
      " [2.97129727]]\n"
     ]
    }
   ],
   "source": [
    "x_b=np.c_[np.ones((100,1)),x]\n",
    "print(x_b)\n",
    "theta_best=np.linalg.inv(x_b.T.dot(x_b)).dot(x_b.T).dot(y)\n",
    "print(theta_best)"
   ]
  },
  {
   "cell_type": "markdown",
   "metadata": {},
   "source": [
    "使用训练得到的参数进行预测"
   ]
  },
  {
   "cell_type": "code",
   "execution_count": 3,
   "metadata": {},
   "outputs": [
    {
     "name": "stdout",
     "output_type": "stream",
     "text": [
      "[[ 4.07290357]\n",
      " [10.01549812]]\n"
     ]
    }
   ],
   "source": [
    "x_new=np.array([[0],[2]])\n",
    "x_new_b=np.c_[np.ones((2,1)),x_new]#c_就是左右连接两个矩阵\n",
    "y_predict=x_new_b.dot(theta_best)\n",
    "print(y_predict)"
   ]
  },
  {
   "cell_type": "markdown",
   "metadata": {},
   "source": [
    "画出这个模型的图像"
   ]
  },
  {
   "cell_type": "code",
   "execution_count": 4,
   "metadata": {},
   "outputs": [
    {
     "data": {
      "image/png": "[encoded data removed]",
      "text/plain": [
       "<Figure size 432x288 with 1 Axes>"
      ]
     },
     "metadata": {},
     "output_type": "display_data"
    }
   ],
   "source": [
    "plt.plot(x_new,y_predict,'r-')\n",
    "plt.plot(x,y,'b.')\n",
    "plt.axis([0,2,0,15])#x轴的范围 与 y轴的范围\n",
    "plt.show()"
   ]
  },
  {
   "cell_type": "markdown",
   "metadata": {},
   "source": [
    "## 使用sklearn可以达到相同效果 ##"
   ]
  },
  {
   "cell_type": "code",
   "execution_count": 5,
   "metadata": {},
   "outputs": [
    {
     "name": "stdout",
     "output_type": "stream",
     "text": [
      "[4.07290357] [[2.97129727]]\n"
     ]
    },
    {
     "data": {
      "text/plain": [
       "array([[ 4.07290357],\n",
       "       [10.01549812]])"
      ]
     },
     "execution_count": 5,
     "metadata": {},
     "output_type": "execute_result"
    }
   ],
   "source": [
    "from sklearn.linear_model import LinearRegression\n",
    "lin_reg=LinearRegression()\n",
    "lin_reg.fit(x,y)\n",
    "print(lin_reg.intercept_,lin_reg.coef_)\n",
    "lin_reg.predict(x_new)"
   ]
  },
  {
   "cell_type": "markdown",
   "metadata": {},
   "source": [
    "## 批量梯度下降 ##"
   ]
  },
  {
   "cell_type": "code",
   "execution_count": 6,
   "metadata": {},
   "outputs": [
    {
     "name": "stdout",
     "output_type": "stream",
     "text": [
      "[[4.07290357]\n",
      " [2.97129727]]\n"
     ]
    }
   ],
   "source": [
    "eta=0.1 #学习率\n",
    "n_iter=1000\n",
    "m=len(y)\n",
    "theta=np.random.randn(2,1)#随机初始值\n",
    "for iter in range(n_iter):\n",
    "    gradients=2/m*x_b.T.dot(x_b.dot(theta)-y)\n",
    "    theta=theta-eta*gradients\n",
    "print(theta)"
   ]
  },
  {
   "cell_type": "markdown",
   "metadata": {},
   "source": [
    "## 随机梯度下降 ##"
   ]
  },
  {
   "cell_type": "markdown",
   "metadata": {},
   "source": [
    "1. 批量梯度下降用所有数据，比较费时。随机梯度下降用了很少的数据，使得可以在大规模数据集上使用\n",
    "2. 另一方面，由于他的随机性，与批量梯度下降相比，呈现出更多的不规律性，他达到最小值不是平缓的下降，损失函数会忽高忽低，只是在大体上呈下降趋势。随着时间推移，他会非常靠近最小值，但不是不会停在一个值上，而是一直在一个值附近摆动。因此算法停止时，最后参数还不错，但不是最优值\n",
    "3. 当损失函数不规则时，随机梯度下降能够跳过局部最小值，因此随机梯度下降在寻找全局最优值比批量梯度要好\n",
    "4. 虽然可以跳过局部最优，但同时不能达到全局最小值，解决的一个方法时模拟退火，即逐渐降低学习率，开始步子大，变得越来越小"
   ]
  },
  {
   "cell_type": "code",
   "execution_count": 8,
   "metadata": {},
   "outputs": [
    {
     "name": "stdout",
     "output_type": "stream",
     "text": [
      "[[4.05220097]\n",
      " [3.00350887]]\n"
     ]
    }
   ],
   "source": [
    "n_epochs=50\n",
    "t0,t1=5,50#模拟退火算法超参数\n",
    "def learning_schedule(t):\n",
    "    return t0/(t+t1)\n",
    "theta=np.random.randn(2,1)\n",
    "for epoch in range(n_epochs):\n",
    "    for i in range(m):\n",
    "        random_index=np.random.randint(m)\n",
    "        xi=x_b[random_index:random_index+1]\n",
    "        yi=y[random_index:random_index+1]\n",
    "        #print(xi)\n",
    "        #print(yi)\n",
    "        #input()\n",
    "        gradients=2*xi.T.dot(xi.dot(theta)-yi)\n",
    "        eta=learning_schedule(epoch*m+i)\n",
    "        theta=theta-eta*gradients\n",
    "print(theta)\n",
    " "
   ]
  },
  {
   "cell_type": "markdown",
   "metadata": {},
   "source": [
    "## 使用sklearn完成随机梯度下降 ##"
   ]
  },
  {
   "cell_type": "code",
   "execution_count": 14,
   "metadata": {},
   "outputs": [
    {
     "name": "stdout",
     "output_type": "stream",
     "text": [
      "[4.05406905] [2.95010924]\n"
     ]
    },
    {
     "name": "stderr",
     "output_type": "stream",
     "text": [
      "D:\\Anoconda\\lib\\site-packages\\sklearn\\linear_model\\stochastic_gradient.py:117: DeprecationWarning: n_iter parameter is deprecated in 0.19 and will be removed in 0.21. Use max_iter and tol instead.\n",
      "  DeprecationWarning)\n"
     ]
    }
   ],
   "source": [
    "from sklearn.linear_model import SGDRegressor\n",
    "sgd_reg=SGDRegressor(n_iter=50,penalty=None,eta0=0.1)\n",
    "sgd_reg.fit(x,y.ravel())\n",
    "print(sgd_reg.intercept_,sgd_reg.coef_)"
   ]
  },
  {
   "cell_type": "code",
   "execution_count": null,
   "metadata": {},
   "outputs": [],
   "source": []
  }
 ],
 "metadata": {
  "kernelspec": {
   "display_name": "Python 3",
   "language": "python",
   "name": "python3"
  }
 },
 "nbformat": 4,
 "nbformat_minor": 2
}

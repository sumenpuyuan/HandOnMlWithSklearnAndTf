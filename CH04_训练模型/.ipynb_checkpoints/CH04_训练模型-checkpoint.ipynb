{
 "cells": [
  {
   "cell_type": "markdown",
   "metadata": {},
   "source": [
    "## 正规方程##"
   ]
  },
  {
   "cell_type": "code",
   "execution_count": 2,
   "metadata": {},
   "outputs": [
    {
     "data": {
      "text/plain": [
       "<matplotlib.collections.PathCollection at 0x24049c4df28>"
      ]
     },
     "execution_count": 2,
     "metadata": {},
     "output_type": "execute_result"
    },
    {
     "data": {
      "image/png": "[encoded data removed]",
      "text/plain": [
       "<matplotlib.figure.Figure at 0x240470ae550>"
      ]
     },
     "metadata": {},
     "output_type": "display_data"
    }
   ],
   "source": [
    "import numpy as np\n",
    "import matplotlib.pyplot as plt\n",
    "%matplotlib inline\n",
    "x=2*np.random.rand(100,1)\n",
    "y=4+3*x+np.random.randn(100,1)#这个n表示的是生成的参数具有正态分布\n",
    "f1 = plt.figure(1)\n",
    "plt.subplot(211)\n",
    "plt.scatter(x,y)\n"
   ]
  },
  {
   "cell_type": "markdown",
   "metadata": {},
   "source": [
    "使用np.linalg.inv计算矩阵逆，dot计算矩阵的乘法"
   ]
  },
  {
   "cell_type": "code",
   "execution_count": 3,
   "metadata": {},
   "outputs": [
    {
     "name": "stdout",
     "output_type": "stream",
     "text": [
      "[[1.         0.86018873]\n",
      " [1.         0.66346288]\n",
      " [1.         0.94205238]\n",
      " [1.         1.83111576]\n",
      " [1.         1.90147425]\n",
      " [1.         0.43078622]\n",
      " [1.         1.0276982 ]\n",
      " [1.         0.04544849]\n",
      " [1.         1.3382297 ]\n",
      " [1.         1.66336637]\n",
      " [1.         1.08612597]\n",
      " [1.         1.40021096]\n",
      " [1.         0.02988141]\n",
      " [1.         1.21495775]\n",
      " [1.         0.65173213]\n",
      " [1.         1.55346355]\n",
      " [1.         0.79869296]\n",
      " [1.         0.62197654]\n",
      " [1.         0.35895019]\n",
      " [1.         0.62634038]\n",
      " [1.         1.35015466]\n",
      " [1.         0.04768508]\n",
      " [1.         1.86576741]\n",
      " [1.         1.29802756]\n",
      " [1.         0.04988579]\n",
      " [1.         0.79031026]\n",
      " [1.         0.61626402]\n",
      " [1.         0.2911756 ]\n",
      " [1.         0.99111803]\n",
      " [1.         0.6965823 ]\n",
      " [1.         0.84918605]\n",
      " [1.         0.82071473]\n",
      " [1.         1.60286858]\n",
      " [1.         0.99794432]\n",
      " [1.         0.01566221]\n",
      " [1.         0.47442628]\n",
      " [1.         1.08329149]\n",
      " [1.         0.62951247]\n",
      " [1.         1.93362745]\n",
      " [1.         0.43295881]\n",
      " [1.         1.53523583]\n",
      " [1.         1.68159168]\n",
      " [1.         1.87520424]\n",
      " [1.         0.49431581]\n",
      " [1.         1.19127759]\n",
      " [1.         0.76550737]\n",
      " [1.         0.39815681]\n",
      " [1.         0.23022795]\n",
      " [1.         1.29023474]\n",
      " [1.         0.72656826]\n",
      " [1.         1.25472152]\n",
      " [1.         0.90658694]\n",
      " [1.         1.28378169]\n",
      " [1.         1.54723071]\n",
      " [1.         1.97258897]\n",
      " [1.         1.21503862]\n",
      " [1.         0.56664701]\n",
      " [1.         1.41721278]\n",
      " [1.         0.69779906]\n",
      " [1.         1.69426677]\n",
      " [1.         0.61826861]\n",
      " [1.         1.4263259 ]\n",
      " [1.         1.93577304]\n",
      " [1.         1.09056061]\n",
      " [1.         1.27033647]\n",
      " [1.         0.60178959]\n",
      " [1.         0.21900123]\n",
      " [1.         1.01453931]\n",
      " [1.         0.38499581]\n",
      " [1.         1.01292926]\n",
      " [1.         1.97888072]\n",
      " [1.         0.01088529]\n",
      " [1.         0.30261446]\n",
      " [1.         0.97070913]\n",
      " [1.         0.10862863]\n",
      " [1.         0.24236029]\n",
      " [1.         0.20219624]\n",
      " [1.         0.61790045]\n",
      " [1.         1.87059051]\n",
      " [1.         0.18007832]\n",
      " [1.         1.50120439]\n",
      " [1.         1.86910095]\n",
      " [1.         1.11304096]\n",
      " [1.         1.43420994]\n",
      " [1.         0.08496488]\n",
      " [1.         1.66715871]\n",
      " [1.         1.2216093 ]\n",
      " [1.         0.8053388 ]\n",
      " [1.         1.1511758 ]\n",
      " [1.         0.3073909 ]\n",
      " [1.         0.71535679]\n",
      " [1.         0.52849538]\n",
      " [1.         1.00727702]\n",
      " [1.         1.71128652]\n",
      " [1.         1.37233045]\n",
      " [1.         0.90656144]\n",
      " [1.         1.50493979]\n",
      " [1.         1.1464094 ]\n",
      " [1.         0.73986591]\n",
      " [1.         1.99815452]]\n",
      "[[4.09309739]\n",
      " [3.0196215 ]]\n"
     ]
    }
   ],
   "source": [
    "x_b=np.c_[np.ones((100,1)),x]\n",
    "print(x_b)\n",
    "theta_best=np.linalg.inv(x_b.T.dot(x_b)).dot(x_b.T).dot(y)\n",
    "print(theta_best)"
   ]
  },
  {
   "cell_type": "markdown",
   "metadata": {},
   "source": [
    "使用训练得到的参数进行预测"
   ]
  },
  {
   "cell_type": "code",
   "execution_count": 4,
   "metadata": {},
   "outputs": [
    {
     "name": "stdout",
     "output_type": "stream",
     "text": [
      "[[ 4.09309739]\n",
      " [10.13234039]]\n"
     ]
    }
   ],
   "source": [
    "x_new=np.array([[0],[2]])\n",
    "x_new_b=np.c_[np.ones((2,1)),x_new]#c_就是左右连接两个矩阵\n",
    "y_predict=x_new_b.dot(theta_best)\n",
    "print(y_predict)"
   ]
  },
  {
   "cell_type": "markdown",
   "metadata": {},
   "source": [
    "画出这个模型的图像"
   ]
  },
  {
   "cell_type": "code",
   "execution_count": 5,
   "metadata": {},
   "outputs": [
    {
     "data": {
      "image/png": "[encoded data removed]",
      "text/plain": [
       "<matplotlib.figure.Figure at 0x24049c84a20>"
      ]
     },
     "metadata": {},
     "output_type": "display_data"
    }
   ],
   "source": [
    "plt.plot(x_new,y_predict,'r-')\n",
    "plt.plot(x,y,'b.')\n",
    "plt.axis([0,2,0,15])#x轴的范围 与 y轴的范围\n",
    "plt.show()"
   ]
  },
  {
   "cell_type": "markdown",
   "metadata": {},
   "source": [
    "## 使用sklearn可以达到相同效果 ##"
   ]
  },
  {
   "cell_type": "code",
   "execution_count": 6,
   "metadata": {},
   "outputs": [
    {
     "name": "stdout",
     "output_type": "stream",
     "text": [
      "[4.09309739] [[3.0196215]]\n"
     ]
    },
    {
     "data": {
      "text/plain": [
       "array([[ 4.09309739],\n",
       "       [10.13234039]])"
      ]
     },
     "execution_count": 6,
     "metadata": {},
     "output_type": "execute_result"
    }
   ],
   "source": [
    "from sklearn.linear_model import LinearRegression\n",
    "lin_reg=LinearRegression()\n",
    "lin_reg.fit(x,y)\n",
    "print(lin_reg.intercept_,lin_reg.coef_)\n",
    "lin_reg.predict(x_new)"
   ]
  },
  {
   "cell_type": "markdown",
   "metadata": {},
   "source": [
    "## 批量梯度下降 ##"
   ]
  },
  {
   "cell_type": "code",
   "execution_count": 7,
   "metadata": {},
   "outputs": [
    {
     "name": "stdout",
     "output_type": "stream",
     "text": [
      "[[4.09309739]\n",
      " [3.0196215 ]]\n"
     ]
    }
   ],
   "source": [
    "eta=0.1 #学习率\n",
    "n_iter=1000\n",
    "m=len(y)\n",
    "theta=np.random.randn(2,1)#随机初始值\n",
    "for iter in range(n_iter):\n",
    "    gradients=2/m*x_b.T.dot(x_b.dot(theta)-y)\n",
    "    theta=theta-eta*gradients\n",
    "print(theta)"
   ]
  },
  {
   "cell_type": "markdown",
   "metadata": {},
   "source": [
    "## 随机梯度下降 ##"
   ]
  },
  {
   "cell_type": "markdown",
   "metadata": {},
   "source": [
    "1. 批量梯度下降用所有数据，比较费时。随机梯度下降用了很少的数据，使得可以在大规模数据集上使用\n",
    "2. 另一方面，由于他的随机性，与批量梯度下降相比，呈现出更多的不规律性，他达到最小值不是平缓的下降，损失函数会忽高忽低，只是在大体上呈下降趋势。随着时间推移，他会非常靠近最小值，但不是不会停在一个值上，而是一直在一个值附近摆动。因此算法停止时，最后参数还不错，但不是最优值\n",
    "3. 当损失函数不规则时，随机梯度下降能够跳过局部最小值，因此随机梯度下降在寻找全局最优值比批量梯度要好\n",
    "4. 虽然可以跳过局部最优，但同时不能达到全局最小值，解决的一个方法时模拟退火，即逐渐降低学习率，开始步子大，变得越来越小"
   ]
  },
  {
   "cell_type": "code",
   "execution_count": 8,
   "metadata": {},
   "outputs": [
    {
     "name": "stdout",
     "output_type": "stream",
     "text": [
      "[[4.07326547]\n",
      " [3.03618721]]\n"
     ]
    }
   ],
   "source": [
    "n_epochs=50\n",
    "t0,t1=5,50#模拟退火算法超参数\n",
    "def learning_schedule(t):\n",
    "    return t0/(t+t1)\n",
    "theta=np.random.randn(2,1)\n",
    "for epoch in range(n_epochs):\n",
    "    for i in range(m):\n",
    "        random_index=np.random.randint(m)\n",
    "        xi=x_b[random_index:random_index+1]\n",
    "        yi=y[random_index:random_index+1]\n",
    "        #print(xi)\n",
    "        #print(yi)\n",
    "        #input()\n",
    "        gradients=2*xi.T.dot(xi.dot(theta)-yi)\n",
    "        eta=learning_schedule(epoch*m+i)\n",
    "        theta=theta-eta*gradients\n",
    "print(theta)\n",
    " "
   ]
  },
  {
   "cell_type": "markdown",
   "metadata": {},
   "source": [
    "## 使用sklearn完成随机梯度下降 ##"
   ]
  },
  {
   "cell_type": "code",
   "execution_count": 9,
   "metadata": {},
   "outputs": [
    {
     "name": "stdout",
     "output_type": "stream",
     "text": [
      "[4.07270031] [2.99922166]\n"
     ]
    },
    {
     "name": "stderr",
     "output_type": "stream",
     "text": [
      "D:\\anaconda3\\lib\\site-packages\\sklearn\\linear_model\\stochastic_gradient.py:117: DeprecationWarning: n_iter parameter is deprecated in 0.19 and will be removed in 0.21. Use max_iter and tol instead.\n",
      "  DeprecationWarning)\n"
     ]
    }
   ],
   "source": [
    "from sklearn.linear_model import SGDRegressor\n",
    "sgd_reg=SGDRegressor(n_iter=50,penalty=None,eta0=0.1)\n",
    "sgd_reg.fit(x,y.ravel())\n",
    "print(sgd_reg.intercept_,sgd_reg.coef_)"
   ]
  },
  {
   "cell_type": "markdown",
   "metadata": {},
   "source": [
    "## 小批量梯度下降 ##"
   ]
  },
  {
   "cell_type": "markdown",
   "metadata": {},
   "source": [
    "小批量，迭代每一步，使用一个随机小型实数集\n",
    "小批量在参数空间上的表现比随机梯度要好很多，小批量比随机更靠近最小值，但是可能会陷入局部最小值中"
   ]
  },
  {
   "cell_type": "markdown",
   "metadata": {},
   "source": [
    "## 多项式回归 ##"
   ]
  },
  {
   "cell_type": "code",
   "execution_count": 10,
   "metadata": {},
   "outputs": [
    {
     "data": {
      "image/png": "[encoded data removed]",
      "text/plain": [
       "<matplotlib.figure.Figure at 0x24049e079e8>"
      ]
     },
     "metadata": {},
     "output_type": "display_data"
    }
   ],
   "source": [
    "#生成非线性数据\n",
    "m=100\n",
    "x=6*np.random.rand(m,1)-3\n",
    "y=0.5*x**2+x+2+np.random.randn(m,1)\n",
    "plt.plot(x,y,'b.')\n",
    "plt.axis([-3,3,0,10])#x轴的范围 与 y轴的范围\n",
    "plt.show()"
   ]
  },
  {
   "cell_type": "markdown",
   "metadata": {},
   "source": [
    "可以清楚看出，直线不能恰当的拟合这些数据，于是使用sklean的PolynomiaFeatures类进行训练数据集的转换，让数据集每个特征平方作为新特征（仅存在一个特征）"
   ]
  },
  {
   "cell_type": "code",
   "execution_count": 11,
   "metadata": {},
   "outputs": [
    {
     "name": "stdout",
     "output_type": "stream",
     "text": [
      "[-0.7724936]\n",
      "[-0.7724936   0.59674636]\n"
     ]
    }
   ],
   "source": [
    "from sklearn.preprocessing import PolynomialFeatures\n",
    "poly_features=PolynomialFeatures(degree=2,include_bias=False)\n",
    "x_poly=poly_features.fit_transform(x)\n",
    "print(x[0])\n",
    "print(x_poly[0])"
   ]
  },
  {
   "cell_type": "code",
   "execution_count": 12,
   "metadata": {},
   "outputs": [
    {
     "name": "stdout",
     "output_type": "stream",
     "text": [
      "[2.09167735] [[0.92146071 0.48741268]]\n"
     ]
    }
   ],
   "source": [
    "#进行拟合\n",
    "lin_reg=LinearRegression()\n",
    "lin_reg.fit(x_poly,y)\n",
    "print(lin_reg.intercept_,lin_reg.coef_)\n"
   ]
  },
  {
   "cell_type": "code",
   "execution_count": 13,
   "metadata": {},
   "outputs": [
    {
     "name": "stderr",
     "output_type": "stream",
     "text": [
      "D:\\anaconda3\\lib\\site-packages\\ipykernel_launcher.py:12: DeprecationWarning: `spline` is deprecated!\n",
      "spline is deprecated in scipy 0.19.0, use Bspline class instead.\n",
      "  if sys.path[0] == '':\n"
     ]
    },
    {
     "data": {
      "image/png": "[encoded data removed]",
      "text/plain": [
       "<matplotlib.figure.Figure at 0x24049e07080>"
      ]
     },
     "metadata": {},
     "output_type": "display_data"
    }
   ],
   "source": [
    "#dddd=list(range(-3,3,1))\n",
    "#del list\n",
    "\n",
    "from scipy.interpolate import spline\n",
    "num=list(range(-3,3,1))\n",
    "x_new=np.array(num)\n",
    "y_predict=lin_reg.coef_[0][1]*(x_new**2)+lin_reg.coef_[0][0]*x_new+lin_reg.intercept_\n",
    "\n",
    "xnew = np.linspace(x_new.min(),x_new.max(),300) \n",
    "\n",
    "\n",
    "power_smooth = spline(x_new,y_predict,xnew)\n",
    "plt.plot(xnew,power_smooth)\n",
    "plt.plot(x,y,'b.')\n",
    "plt.axis([-3,3,0,10])#x轴的范围 与 y轴的范围\n",
    "plt.show()"
   ]
  },
  {
   "cell_type": "markdown",
   "metadata": {
    "collapsed": true
   },
   "source": [
    "## 学习曲线 ##"
   ]
  },
  {
   "cell_type": "markdown",
   "metadata": {},
   "source": [
    "使用高阶多项式回归很可能出现过拟合的情况，而线性模型则会欠拟合。在这个数据集上二次模型有很好的泛化能力。但是我们不知道这个数据的生成函数是什么，那我们如何决定模型复杂度呢？如何知道自己的模型时过拟合还是欠拟合\n",
    "第二章我们知道可以使用交叉验证\n",
    "这里我们学习观察学习曲线：画出模型在训练集上的表现，同时画出以训练集规模为自变量的训练集函数。为了得到图像，需要在训练集的不同规模子集上进行多次训练"
   ]
  },
  {
   "cell_type": "code",
   "execution_count": 14,
   "metadata": {},
   "outputs": [
    {
     "data": {
      "image/png": "[encoded data removed]",
      "text/plain": [
       "<matplotlib.figure.Figure at 0x24047066b70>"
      ]
     },
     "metadata": {},
     "output_type": "display_data"
    }
   ],
   "source": [
    "from sklearn.metrics import mean_squared_error\n",
    "from sklearn.model_selection import train_test_split\n",
    "def plot_learning_curves(model,x,y):\n",
    "    #切割训练集 验证机\n",
    "    X_train,X_val,y_train,y_val=train_test_split(x,y,test_size=0.2)\n",
    "    #初始化训练误差 验证误差\n",
    "    train_errors,val_errors=[],[]\n",
    "    #抽取不同训练集合的子集\n",
    "    for m in range(1,len(X_train)):\n",
    "        #进行拟合\n",
    "        model.fit(X_train[:m],y_train[:m])\n",
    "        y_train_predict=model.predict(X_train[:m])\n",
    "        y_val_predict=model.predict(X_val)\n",
    "        train_errors.append(mean_squared_error(y_train_predict,y_train[:m]))\n",
    "        val_errors.append(mean_squared_error(y_val_predict,y_val))\n",
    "    plt.plot(np.sqrt(train_errors),'r-+',linewidth=2,label='train')\n",
    "    plt.plot(np.sqrt(val_errors),'b-',linewidth=3,label='val')\n",
    "lin_reg=LinearRegression()\n",
    "plot_learning_curves(lin_reg,x,y)"
   ]
  },
  {
   "cell_type": "markdown",
   "metadata": {},
   "source": [
    "红色时训练误差，蓝色时测试误差\n",
    "\n",
    "先看训练集，只有一两个样本时可以很好拟合，样本变大时，误差变得更大，原因可能有两种，一是数据中有噪声，另一个时数据根本不是线性的。因此随着数据增大，误差也越来越大\n",
    "\n",
    "再看测试误差，只有一个两个样本误差大，表示不能很好泛化，随着数据增多，逐渐下降，但是线性函数不能很好拟合数据，所以最后停在要给高原地带并趋于稳定\n",
    "\n",
    "**这是典型的欠拟合曲线，两条曲线都达到高原地带并趋于稳定，并且最后两条曲线非常接近，同时误差值又很大**"
   ]
  },
  {
   "cell_type": "markdown",
   "metadata": {},
   "source": [
    "我们看下10阶多项式回归拟合的学习曲线"
   ]
  },
  {
   "cell_type": "code",
   "execution_count": 15,
   "metadata": {},
   "outputs": [
    {
     "data": {
      "image/png": "[encoded data removed]",
      "text/plain": [
       "<matplotlib.figure.Figure at 0x2404b1629e8>"
      ]
     },
     "metadata": {},
     "output_type": "display_data"
    }
   ],
   "source": [
    "from sklearn.pipeline import Pipeline\n",
    "polynomial_regression=Pipeline((\n",
    "    (\"poly_features\",PolynomialFeatures(degree=10,include_bias=False)),\n",
    "    (\"sgd_reg\",LinearRegression()),\n",
    "))\n",
    "plot_learning_curves(polynomial_regression,x,y)"
   ]
  },
  {
   "cell_type": "markdown",
   "metadata": {},
   "source": [
    "这幅图与上一个图主要有两个不同点：\n",
    "1. 训练集误差比线性回归低很多\n",
    "2. 两条曲线有间隔，即训练集表现比测试集好，这是过拟合的显著特点"
   ]
  },
  {
   "cell_type": "code",
   "execution_count": 16,
   "metadata": {},
   "outputs": [
    {
     "data": {
      "image/png": "[encoded data removed]",
      "text/plain": [
       "<matplotlib.figure.Figure at 0x24047c08668>"
      ]
     },
     "metadata": {},
     "output_type": "display_data"
    }
   ],
   "source": [
    "#尝试二次\n",
    "from sklearn.pipeline import Pipeline\n",
    "polynomial_regression=Pipeline((\n",
    "    (\"poly_features\",PolynomialFeatures(degree=2,include_bias=False)),\n",
    "    (\"sgd_reg\",LinearRegression()),\n",
    "))\n",
    "plot_learning_curves(polynomial_regression,x,y)"
   ]
  },
  {
   "cell_type": "markdown",
   "metadata": {},
   "source": [
    "偏差：泛华误差的这部分误差是由于错误的假设决定的。例如实际是一个二次模型，你却假设了一个线性模型，一个高偏差的模型最容易出欠拟合\n",
    "\n",
    "方差：这部分误差由于模型对微小变化较为敏感，一个多自由度的模型更容易有高的方差（例如高阶多项式）因此容易过拟合\n",
    "\n",
    "（1）如果高偏差，即欠拟合：可以A：增加更多的特征个数  B：使用更复杂的模型，使用更复杂的网络\n",
    "\n",
    "（2）如果高方差，即过拟合：可以A：增加更多的数据   B:正则化"
   ]
  },
  {
   "cell_type": "markdown",
   "metadata": {},
   "source": [
    "# 线性模型的正则化 #\n"
   ]
  },
  {
   "cell_type": "markdown",
   "metadata": {},
   "source": [
    "## 岭（Ridge）回归 ##\n",
    "损失函数后面加上l2平方的一半"
   ]
  },
  {
   "cell_type": "markdown",
   "metadata": {},
   "source": [
    "<img src='images/ling.png'/>"
   ]
  },
  {
   "cell_type": "code",
   "execution_count": 18,
   "metadata": {},
   "outputs": [
    {
     "data": {
      "text/plain": [
       "array([[4.9380509]])"
      ]
     },
     "execution_count": 18,
     "metadata": {},
     "output_type": "execute_result"
    }
   ],
   "source": [
    "#使用sklearn进行封闭方程的求解\n",
    "from sklearn.linear_model import Ridge\n",
    "ridge_reg=Ridge(alpha=1,solver='cholesky')\n",
    "ridge_reg.fit(x,y)\n",
    "ridge_reg.predict([[1.5]])"
   ]
  },
  {
   "cell_type": "code",
   "execution_count": 19,
   "metadata": {},
   "outputs": [
    {
     "name": "stderr",
     "output_type": "stream",
     "text": [
      "D:\\anaconda3\\lib\\site-packages\\sklearn\\linear_model\\stochastic_gradient.py:128: FutureWarning: max_iter and tol parameters have been added in <class 'sklearn.linear_model.stochastic_gradient.SGDRegressor'> in 0.19. If both are left unset, they default to max_iter=5 and tol=None. If tol is not None, max_iter defaults to max_iter=1000. From 0.21, default max_iter will be 1000, and default tol will be 1e-3.\n",
      "  \"and default tol will be 1e-3.\" % type(self), FutureWarning)\n"
     ]
    },
    {
     "data": {
      "text/plain": [
       "array([4.07096251])"
      ]
     },
     "execution_count": 19,
     "metadata": {},
     "output_type": "execute_result"
    }
   ],
   "source": [
    "#使用随机梯度进行求解\n",
    "sgd_reg=SGDRegressor(penalty='l2')\n",
    "sgd_reg.fit(x,y.ravel())\n",
    "sgd_reg.predict([[1.5]])"
   ]
  },
  {
   "cell_type": "markdown",
   "metadata": {
    "collapsed": true
   },
   "source": [
    "# Lasso回归 #\n",
    "损失函数后面加l1范数"
   ]
  },
  {
   "cell_type": "code",
   "execution_count": null,
   "metadata": {},
   "outputs": [],
   "source": []
  }
 ],
 "metadata": {
  "kernelspec": {
   "display_name": "Python 3",
   "language": "python",
   "name": "python3"
  },
  "language_info": {
   "codemirror_mode": {
    "name": "ipython",
    "version": 3
   },
   "file_extension": ".py",
   "mimetype": "text/x-python",
   "name": "python",
   "nbconvert_exporter": "python",
   "pygments_lexer": "ipython3",
   "version": "3.6.5"
  }
 },
 "nbformat": 4,
 "nbformat_minor": 2
}

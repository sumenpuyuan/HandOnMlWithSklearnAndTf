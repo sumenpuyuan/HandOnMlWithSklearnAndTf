{
 "cells": [
  {
   "cell_type": "markdown",
   "metadata": {},
   "source": [
    "## 正规方程##"
   ]
  },
  {
   "cell_type": "code",
   "execution_count": 1,
   "metadata": {},
   "outputs": [
    {
     "data": {
      "text/plain": [
       "<matplotlib.collections.PathCollection at 0x1ba0eab3da0>"
      ]
     },
     "execution_count": 1,
     "metadata": {},
     "output_type": "execute_result"
    },
    {
     "data": {
      "image/png": "[encoded data removed]",
      "text/plain": [
       "<Figure size 432x288 with 1 Axes>"
      ]
     },
     "metadata": {},
     "output_type": "display_data"
    }
   ],
   "source": [
    "import numpy as np\n",
    "import matplotlib.pyplot as plt\n",
    "%matplotlib inline\n",
    "x=2*np.random.rand(100,1)\n",
    "y=4+3*x+np.random.randn(100,1)#这个n表示的是生成的参数具有正态分布\n",
    "f1 = plt.figure(1)\n",
    "plt.subplot(211)\n",
    "plt.scatter(x,y)\n"
   ]
  },
  {
   "cell_type": "markdown",
   "metadata": {},
   "source": [
    "使用np.linalg.inv计算矩阵逆，dot计算矩阵的乘法"
   ]
  },
  {
   "cell_type": "code",
   "execution_count": 2,
   "metadata": {},
   "outputs": [
    {
     "name": "stdout",
     "output_type": "stream",
     "text": [
      "[[1.         1.9253427 ]\n",
      " [1.         0.30459202]\n",
      " [1.         1.73905357]\n",
      " [1.         1.74815384]\n",
      " [1.         0.32348105]\n",
      " [1.         0.9010785 ]\n",
      " [1.         1.14933685]\n",
      " [1.         0.86031671]\n",
      " [1.         0.86429521]\n",
      " [1.         1.41671749]\n",
      " [1.         1.76004516]\n",
      " [1.         1.4897399 ]\n",
      " [1.         1.68389085]\n",
      " [1.         1.77348842]\n",
      " [1.         1.03547754]\n",
      " [1.         1.56267054]\n",
      " [1.         1.72569049]\n",
      " [1.         0.50873654]\n",
      " [1.         1.11094341]\n",
      " [1.         1.55130231]\n",
      " [1.         1.54879419]\n",
      " [1.         1.89119984]\n",
      " [1.         1.16428285]\n",
      " [1.         1.00805729]\n",
      " [1.         0.24630301]\n",
      " [1.         0.86890927]\n",
      " [1.         0.40459875]\n",
      " [1.         0.43424847]\n",
      " [1.         1.25158379]\n",
      " [1.         0.21285374]\n",
      " [1.         1.48128128]\n",
      " [1.         0.17499529]\n",
      " [1.         1.96437969]\n",
      " [1.         1.18870951]\n",
      " [1.         1.33783697]\n",
      " [1.         0.57409704]\n",
      " [1.         0.82786767]\n",
      " [1.         1.82823211]\n",
      " [1.         0.45460508]\n",
      " [1.         1.42670659]\n",
      " [1.         0.02389453]\n",
      " [1.         0.45955652]\n",
      " [1.         1.18101929]\n",
      " [1.         1.71166788]\n",
      " [1.         1.83209481]\n",
      " [1.         0.74126356]\n",
      " [1.         1.84895946]\n",
      " [1.         0.17715579]\n",
      " [1.         0.70752451]\n",
      " [1.         0.82519547]\n",
      " [1.         0.91630649]\n",
      " [1.         1.15779894]\n",
      " [1.         1.5044754 ]\n",
      " [1.         1.44706661]\n",
      " [1.         0.70637676]\n",
      " [1.         1.53877444]\n",
      " [1.         0.56434197]\n",
      " [1.         1.43818994]\n",
      " [1.         0.13243738]\n",
      " [1.         1.42165031]\n",
      " [1.         1.30025323]\n",
      " [1.         1.71978376]\n",
      " [1.         1.43363167]\n",
      " [1.         0.63526724]\n",
      " [1.         1.43071643]\n",
      " [1.         1.05495097]\n",
      " [1.         1.13004086]\n",
      " [1.         1.91543433]\n",
      " [1.         1.28884741]\n",
      " [1.         1.61013889]\n",
      " [1.         0.71695879]\n",
      " [1.         0.69343419]\n",
      " [1.         1.06009287]\n",
      " [1.         1.49939574]\n",
      " [1.         0.93426018]\n",
      " [1.         1.01583464]\n",
      " [1.         0.98687448]\n",
      " [1.         0.76288464]\n",
      " [1.         1.61026471]\n",
      " [1.         1.3507204 ]\n",
      " [1.         1.57294755]\n",
      " [1.         1.59088499]\n",
      " [1.         1.13258166]\n",
      " [1.         0.06780472]\n",
      " [1.         0.89161365]\n",
      " [1.         0.75034792]\n",
      " [1.         0.16009704]\n",
      " [1.         0.38798284]\n",
      " [1.         1.65605784]\n",
      " [1.         0.95592618]\n",
      " [1.         1.19246683]\n",
      " [1.         1.28388131]\n",
      " [1.         0.55409363]\n",
      " [1.         0.5400986 ]\n",
      " [1.         1.91314882]\n",
      " [1.         0.96565445]\n",
      " [1.         1.50864378]\n",
      " [1.         0.84018146]\n",
      " [1.         0.91732415]\n",
      " [1.         0.35021386]]\n",
      "[[4.08240944]\n",
      " [3.01410349]]\n"
     ]
    }
   ],
   "source": [
    "x_b=np.c_[np.ones((100,1)),x]\n",
    "print(x_b)\n",
    "theta_best=np.linalg.inv(x_b.T.dot(x_b)).dot(x_b.T).dot(y)\n",
    "print(theta_best)"
   ]
  },
  {
   "cell_type": "markdown",
   "metadata": {},
   "source": [
    "使用训练得到的参数进行预测"
   ]
  },
  {
   "cell_type": "code",
   "execution_count": 3,
   "metadata": {},
   "outputs": [
    {
     "name": "stdout",
     "output_type": "stream",
     "text": [
      "[[ 4.08240944]\n",
      " [10.11061643]]\n"
     ]
    }
   ],
   "source": [
    "x_new=np.array([[0],[2]])\n",
    "x_new_b=np.c_[np.ones((2,1)),x_new]#c_就是左右连接两个矩阵\n",
    "y_predict=x_new_b.dot(theta_best)\n",
    "print(y_predict)"
   ]
  },
  {
   "cell_type": "markdown",
   "metadata": {},
   "source": [
    "画出这个模型的图像"
   ]
  },
  {
   "cell_type": "code",
   "execution_count": 4,
   "metadata": {},
   "outputs": [
    {
     "data": {
      "image/png": "[encoded data removed]",
      "text/plain": [
       "<Figure size 432x288 with 1 Axes>"
      ]
     },
     "metadata": {},
     "output_type": "display_data"
    }
   ],
   "source": [
    "plt.plot(x_new,y_predict,'r-')\n",
    "plt.plot(x,y,'b.')\n",
    "plt.axis([0,2,0,15])#x轴的范围 与 y轴的范围\n",
    "plt.show()"
   ]
  },
  {
   "cell_type": "markdown",
   "metadata": {},
   "source": [
    "## 使用sklearn可以达到相同效果 ##"
   ]
  },
  {
   "cell_type": "code",
   "execution_count": 5,
   "metadata": {},
   "outputs": [
    {
     "name": "stdout",
     "output_type": "stream",
     "text": [
      "[4.08240944] [[3.01410349]]\n"
     ]
    },
    {
     "data": {
      "text/plain": [
       "array([[ 4.08240944],\n",
       "       [10.11061643]])"
      ]
     },
     "execution_count": 5,
     "metadata": {},
     "output_type": "execute_result"
    }
   ],
   "source": [
    "from sklearn.linear_model import LinearRegression\n",
    "lin_reg=LinearRegression()\n",
    "lin_reg.fit(x,y)\n",
    "print(lin_reg.intercept_,lin_reg.coef_)\n",
    "lin_reg.predict(x_new)"
   ]
  },
  {
   "cell_type": "markdown",
   "metadata": {},
   "source": [
    "## 批量梯度下降 ##"
   ]
  },
  {
   "cell_type": "code",
   "execution_count": 6,
   "metadata": {},
   "outputs": [
    {
     "name": "stdout",
     "output_type": "stream",
     "text": [
      "[[4.08240944]\n",
      " [3.01410349]]\n"
     ]
    }
   ],
   "source": [
    "eta=0.1 #学习率\n",
    "n_iter=1000\n",
    "m=len(y)\n",
    "theta=np.random.randn(2,1)#随机初始值\n",
    "for iter in range(n_iter):\n",
    "    gradients=2/m*x_b.T.dot(x_b.dot(theta)-y)\n",
    "    theta=theta-eta*gradients\n",
    "print(theta)"
   ]
  },
  {
   "cell_type": "markdown",
   "metadata": {},
   "source": [
    "## 随机梯度下降 ##"
   ]
  },
  {
   "cell_type": "markdown",
   "metadata": {},
   "source": [
    "1. 批量梯度下降用所有数据，比较费时。随机梯度下降用了很少的数据，使得可以在大规模数据集上使用\n",
    "2. 另一方面，由于他的随机性，与批量梯度下降相比，呈现出更多的不规律性，他达到最小值不是平缓的下降，损失函数会忽高忽低，只是在大体上呈下降趋势。随着时间推移，他会非常靠近最小值，但不是不会停在一个值上，而是一直在一个值附近摆动。因此算法停止时，最后参数还不错，但不是最优值\n",
    "3. 当损失函数不规则时，随机梯度下降能够跳过局部最小值，因此随机梯度下降在寻找全局最优值比批量梯度要好\n",
    "4. 虽然可以跳过局部最优，但同时不能达到全局最小值，解决的一个方法时模拟退火，即逐渐降低学习率，开始步子大，变得越来越小"
   ]
  },
  {
   "cell_type": "code",
   "execution_count": 7,
   "metadata": {},
   "outputs": [
    {
     "name": "stdout",
     "output_type": "stream",
     "text": [
      "[[4.02266406]\n",
      " [2.96604155]]\n"
     ]
    }
   ],
   "source": [
    "n_epochs=50\n",
    "t0,t1=5,50#模拟退火算法超参数\n",
    "def learning_schedule(t):\n",
    "    return t0/(t+t1)\n",
    "theta=np.random.randn(2,1)\n",
    "for epoch in range(n_epochs):\n",
    "    for i in range(m):\n",
    "        random_index=np.random.randint(m)\n",
    "        xi=x_b[random_index:random_index+1]\n",
    "        yi=y[random_index:random_index+1]\n",
    "        #print(xi)\n",
    "        #print(yi)\n",
    "        #input()\n",
    "        gradients=2*xi.T.dot(xi.dot(theta)-yi)\n",
    "        eta=learning_schedule(epoch*m+i)\n",
    "        theta=theta-eta*gradients\n",
    "print(theta)\n",
    " "
   ]
  },
  {
   "cell_type": "markdown",
   "metadata": {},
   "source": [
    "## 使用sklearn完成随机梯度下降 ##"
   ]
  },
  {
   "cell_type": "code",
   "execution_count": 8,
   "metadata": {},
   "outputs": [
    {
     "name": "stdout",
     "output_type": "stream",
     "text": [
      "[4.11782253] [3.05002624]\n"
     ]
    },
    {
     "name": "stderr",
     "output_type": "stream",
     "text": [
      "D:\\Anoconda\\lib\\site-packages\\sklearn\\linear_model\\stochastic_gradient.py:117: DeprecationWarning: n_iter parameter is deprecated in 0.19 and will be removed in 0.21. Use max_iter and tol instead.\n",
      "  DeprecationWarning)\n"
     ]
    }
   ],
   "source": [
    "from sklearn.linear_model import SGDRegressor\n",
    "sgd_reg=SGDRegressor(n_iter=50,penalty=None,eta0=0.1)\n",
    "sgd_reg.fit(x,y.ravel())\n",
    "print(sgd_reg.intercept_,sgd_reg.coef_)"
   ]
  },
  {
   "cell_type": "markdown",
   "metadata": {},
   "source": [
    "## 小批量梯度下降 ##"
   ]
  },
  {
   "cell_type": "markdown",
   "metadata": {},
   "source": [
    "小批量，迭代每一步，使用一个随机小型实数集\n",
    "小批量在参数空间上的表现比随机梯度要好很多，小批量比随机更靠近最小值，但是可能会陷入局部最小值中"
   ]
  },
  {
   "cell_type": "markdown",
   "metadata": {},
   "source": [
    "## 多项式回归 ##"
   ]
  },
  {
   "cell_type": "code",
   "execution_count": 9,
   "metadata": {},
   "outputs": [
    {
     "data": {
      "image/png": "[encoded data removed]",
      "text/plain": [
       "<Figure size 432x288 with 1 Axes>"
      ]
     },
     "metadata": {},
     "output_type": "display_data"
    }
   ],
   "source": [
    "#生成非线性数据\n",
    "m=100\n",
    "x=6*np.random.rand(m,1)-3\n",
    "y=0.5*x**2+x+2+np.random.randn(m,1)\n",
    "plt.plot(x,y,'b.')\n",
    "plt.axis([-3,3,0,10])#x轴的范围 与 y轴的范围\n",
    "plt.show()"
   ]
  },
  {
   "cell_type": "markdown",
   "metadata": {},
   "source": [
    "可以清楚看出，直线不能恰当的拟合这些数据，于是使用sklean的PolynomiaFeatures类进行训练数据集的转换，让数据集每个特征平方作为新特征（仅存在一个特征）"
   ]
  },
  {
   "cell_type": "code",
   "execution_count": 10,
   "metadata": {},
   "outputs": [
    {
     "name": "stdout",
     "output_type": "stream",
     "text": [
      "[-0.22467701]\n",
      "[-0.22467701  0.05047976]\n"
     ]
    }
   ],
   "source": [
    "from sklearn.preprocessing import PolynomialFeatures\n",
    "poly_features=PolynomialFeatures(degree=2,include_bias=False)\n",
    "x_poly=poly_features.fit_transform(x)\n",
    "print(x[0])\n",
    "print(x_poly[0])"
   ]
  },
  {
   "cell_type": "code",
   "execution_count": 11,
   "metadata": {},
   "outputs": [
    {
     "name": "stdout",
     "output_type": "stream",
     "text": [
      "[1.93790417] [[1.00666087 0.51540474]]\n"
     ]
    }
   ],
   "source": [
    "#进行拟合\n",
    "lin_reg=LinearRegression()\n",
    "lin_reg.fit(x_poly,y)\n",
    "print(lin_reg.intercept_,lin_reg.coef_)\n"
   ]
  },
  {
   "cell_type": "code",
   "execution_count": 12,
   "metadata": {},
   "outputs": [
    {
     "name": "stderr",
     "output_type": "stream",
     "text": [
      "D:\\Anoconda\\lib\\site-packages\\ipykernel_launcher.py:12: DeprecationWarning: `spline` is deprecated!\n",
      "spline is deprecated in scipy 0.19.0, use Bspline class instead.\n",
      "  if sys.path[0] == '':\n"
     ]
    },
    {
     "data": {
      "image/png": "[encoded data removed]",
      "text/plain": [
       "<Figure size 432x288 with 1 Axes>"
      ]
     },
     "metadata": {},
     "output_type": "display_data"
    }
   ],
   "source": [
    "#dddd=list(range(-3,3,1))\n",
    "#del list\n",
    "\n",
    "from scipy.interpolate import spline\n",
    "num=list(range(-3,3,1))\n",
    "x_new=np.array(num)\n",
    "y_predict=lin_reg.coef_[0][1]*(x_new**2)+lin_reg.coef_[0][0]*x_new+lin_reg.intercept_\n",
    "\n",
    "xnew = np.linspace(x_new.min(),x_new.max(),300) \n",
    "\n",
    "\n",
    "power_smooth = spline(x_new,y_predict,xnew)\n",
    "plt.plot(xnew,power_smooth)\n",
    "plt.plot(x,y,'b.')\n",
    "plt.axis([-3,3,0,10])#x轴的范围 与 y轴的范围\n",
    "plt.show()"
   ]
  },
  {
   "cell_type": "markdown",
   "metadata": {
    "collapsed": true
   },
   "source": [
    "## 学习曲线 ##"
   ]
  },
  {
   "cell_type": "markdown",
   "metadata": {},
   "source": [
    "使用高阶多项式回归很可能出现过拟合的情况，而线性模型则会欠拟合。在这个数据集上二次模型有很好的泛化能力。但是我们不知道这个数据的生成函数是什么，那我们如何决定模型复杂度呢？如何知道自己的模型时过拟合还是欠拟合\n",
    "第二章我们知道可以使用交叉验证\n",
    "这里我们学习观察学习曲线：画出模型在训练集上的表现，同时画出以训练集规模为自变量的训练集函数。为了得到图像，需要在训练集的不同规模子集上进行多次训练"
   ]
  },
  {
   "cell_type": "code",
   "execution_count": 15,
   "metadata": {},
   "outputs": [
    {
     "data": {
      "image/png": "[encoded data removed]",
      "text/plain": [
       "<Figure size 432x288 with 1 Axes>"
      ]
     },
     "metadata": {},
     "output_type": "display_data"
    }
   ],
   "source": [
    "from sklearn.metrics import mean_squared_error\n",
    "from sklearn.model_selection import train_test_split\n",
    "def plot_learning_curves(model,x,y):\n",
    "    #切割训练集 验证机\n",
    "    X_train,X_val,y_train,y_val=train_test_split(x,y,test_size=0.2)\n",
    "    #初始化训练误差 验证误差\n",
    "    train_errors,val_errors=[],[]\n",
    "    #抽取不同训练集合的子集\n",
    "    for m in range(1,len(X_train)):\n",
    "        #进行拟合\n",
    "        model.fit(X_train[:m],y_train[:m])\n",
    "        y_train_predict=model.predict(X_train[:m])\n",
    "        y_val_predict=model.predict(X_val)\n",
    "        train_errors.append(mean_squared_error(y_train_predict,y_train[:m]))\n",
    "        val_errors.append(mean_squared_error(y_val_predict,y_val))\n",
    "    plt.plot(np.sqrt(train_errors),'r-+',linewidth=2,label='train')\n",
    "    plt.plot(np.sqrt(val_errors),'b-',linewidth=3,label='val')\n",
    "lin_reg=LinearRegression()\n",
    "plot_learning_curves(lin_reg,x,y)"
   ]
  },
  {
   "cell_type": "markdown",
   "metadata": {},
   "source": [
    "红色时训练误差，蓝色时测试误差\n",
    "\n",
    "先看训练集，只有一两个样本时可以很好拟合，样本变大时，误差变得更大，原因可能有两种，一是数据中有噪声，另一个时数据根本不是线性的。因此随着数据增大，误差也越来越大\n",
    "\n",
    "再看测试误差，只有一个两个样本误差大，表示不能很好泛化，随着数据增多，逐渐下降，但是线性函数不能很好拟合数据，所以最后停在要给高原地带并趋于稳定\n",
    "\n",
    "**这是典型的欠拟合曲线，两条曲线都达到高原地带并趋于稳定，并且最后两条曲线非常接近，同时误差值又很大**"
   ]
  },
  {
   "cell_type": "markdown",
   "metadata": {},
   "source": [
    "我们看下10阶多项式回归拟合的学习曲线"
   ]
  },
  {
   "cell_type": "code",
   "execution_count": 19,
   "metadata": {},
   "outputs": [
    {
     "data": {
      "image/png": "[encoded data removed]",
      "text/plain": [
       "<Figure size 432x288 with 1 Axes>"
      ]
     },
     "metadata": {},
     "output_type": "display_data"
    }
   ],
   "source": [
    "from sklearn.pipeline import Pipeline\n",
    "polynomial_regression=Pipeline((\n",
    "    (\"poly_features\",PolynomialFeatures(degree=10,include_bias=False)),\n",
    "    (\"sgd_reg\",LinearRegression()),\n",
    "))\n",
    "plot_learning_curves(polynomial_regression,x,y)"
   ]
  },
  {
   "cell_type": "markdown",
   "metadata": {},
   "source": [
    "这幅图与上一个图主要有两个不同点：\n",
    "1. 训练集误差比线性回归低很多\n",
    "2. 两条曲线有间隔，即训练集表现比测试集好，这是过拟合的显著特点"
   ]
  },
  {
   "cell_type": "code",
   "execution_count": 21,
   "metadata": {},
   "outputs": [
    {
     "data": {
      "image/png": "[encoded data removed]",
      "text/plain": [
       "<Figure size 432x288 with 1 Axes>"
      ]
     },
     "metadata": {},
     "output_type": "display_data"
    }
   ],
   "source": [
    "#尝试二次\n",
    "from sklearn.pipeline import Pipeline\n",
    "polynomial_regression=Pipeline((\n",
    "    (\"poly_features\",PolynomialFeatures(degree=2,include_bias=False)),\n",
    "    (\"sgd_reg\",LinearRegression()),\n",
    "))\n",
    "plot_learning_curves(polynomial_regression,x,y)"
   ]
  },
  {
   "cell_type": "code",
   "execution_count": null,
   "metadata": {},
   "outputs": [],
   "source": []
  }
 ],
 "metadata": {
  "kernelspec": {
   "display_name": "Python 3",
   "language": "python",
   "name": "python3"
  },
  "language_info": {
   "codemirror_mode": {
    "name": "ipython",
    "version": 3
   },
   "file_extension": ".py",
   "mimetype": "text/x-python",
   "name": "python",
   "nbconvert_exporter": "python",
   "pygments_lexer": "ipython3",
   "version": "3.6.5"
  }
 },
 "nbformat": 4,
 "nbformat_minor": 2
}

{
 "cells": [
  {
   "cell_type": "markdown",
   "metadata": {},
   "source": [
    "## 正规方程##"
   ]
  },
  {
   "cell_type": "code",
   "execution_count": 2,
   "metadata": {},
   "outputs": [
    {
     "data": {
      "text/plain": [
       "<matplotlib.collections.PathCollection at 0x1edc67f96a0>"
      ]
     },
     "execution_count": 2,
     "metadata": {},
     "output_type": "execute_result"
    },
    {
     "data": {
      "image/png": "[encoded data removed]",
      "text/plain": [
       "<matplotlib.figure.Figure at 0x1edb57619b0>"
      ]
     },
     "metadata": {},
     "output_type": "display_data"
    }
   ],
   "source": [
    "import numpy as np\n",
    "import matplotlib.pyplot as plt\n",
    "%matplotlib inline\n",
    "x=2*np.random.rand(100,1)\n",
    "y=4+3*x+np.random.randn(100,1)#这个n表示的是生成的参数具有正态分布\n",
    "f1 = plt.figure(1)\n",
    "plt.subplot(211)\n",
    "plt.scatter(x,y)\n"
   ]
  },
  {
   "cell_type": "markdown",
   "metadata": {},
   "source": [
    "使用np.linalg.inv计算矩阵逆，dot计算矩阵的乘法"
   ]
  },
  {
   "cell_type": "code",
   "execution_count": 3,
   "metadata": {},
   "outputs": [
    {
     "name": "stdout",
     "output_type": "stream",
     "text": [
      "[[1.         0.21617457]\n",
      " [1.         0.52458898]\n",
      " [1.         1.02366361]\n",
      " [1.         0.80599126]\n",
      " [1.         0.64180368]\n",
      " [1.         1.83958021]\n",
      " [1.         0.32688624]\n",
      " [1.         1.67089308]\n",
      " [1.         1.13693894]\n",
      " [1.         0.2719253 ]\n",
      " [1.         0.07136252]\n",
      " [1.         1.56205314]\n",
      " [1.         0.65801557]\n",
      " [1.         1.04104416]\n",
      " [1.         0.56086004]\n",
      " [1.         0.93086686]\n",
      " [1.         1.52898224]\n",
      " [1.         0.48568508]\n",
      " [1.         1.73244016]\n",
      " [1.         1.6300271 ]\n",
      " [1.         0.67162326]\n",
      " [1.         1.45595804]\n",
      " [1.         0.50784295]\n",
      " [1.         1.44184935]\n",
      " [1.         1.68968284]\n",
      " [1.         0.95231142]\n",
      " [1.         1.19976   ]\n",
      " [1.         1.01719662]\n",
      " [1.         0.61034702]\n",
      " [1.         0.27634329]\n",
      " [1.         1.7111306 ]\n",
      " [1.         1.95851589]\n",
      " [1.         0.59841531]\n",
      " [1.         0.23046901]\n",
      " [1.         1.24597064]\n",
      " [1.         0.78308974]\n",
      " [1.         1.65817685]\n",
      " [1.         1.95873618]\n",
      " [1.         1.73151973]\n",
      " [1.         0.57688988]\n",
      " [1.         1.01630681]\n",
      " [1.         1.80400186]\n",
      " [1.         1.96743638]\n",
      " [1.         1.34565571]\n",
      " [1.         1.46741954]\n",
      " [1.         0.42139448]\n",
      " [1.         0.47288945]\n",
      " [1.         0.76415725]\n",
      " [1.         1.65540245]\n",
      " [1.         0.24987262]\n",
      " [1.         0.89219006]\n",
      " [1.         0.61323487]\n",
      " [1.         1.48751117]\n",
      " [1.         0.31872635]\n",
      " [1.         0.58896647]\n",
      " [1.         1.28134682]\n",
      " [1.         1.27512087]\n",
      " [1.         1.66580332]\n",
      " [1.         0.72868223]\n",
      " [1.         1.46627563]\n",
      " [1.         1.9057515 ]\n",
      " [1.         1.5391806 ]\n",
      " [1.         1.16873897]\n",
      " [1.         1.50961684]\n",
      " [1.         0.63695002]\n",
      " [1.         0.59894312]\n",
      " [1.         1.51063679]\n",
      " [1.         0.98284819]\n",
      " [1.         0.27612431]\n",
      " [1.         1.22655398]\n",
      " [1.         1.74746408]\n",
      " [1.         1.5758447 ]\n",
      " [1.         1.50674766]\n",
      " [1.         1.31435012]\n",
      " [1.         1.73062476]\n",
      " [1.         1.33159359]\n",
      " [1.         0.37612643]\n",
      " [1.         0.04694486]\n",
      " [1.         0.17889174]\n",
      " [1.         0.49764162]\n",
      " [1.         1.35381573]\n",
      " [1.         0.0713649 ]\n",
      " [1.         1.00826991]\n",
      " [1.         0.41697227]\n",
      " [1.         1.52303158]\n",
      " [1.         1.81586977]\n",
      " [1.         0.33900453]\n",
      " [1.         1.72498696]\n",
      " [1.         1.71103605]\n",
      " [1.         1.30373055]\n",
      " [1.         0.69039717]\n",
      " [1.         1.25651497]\n",
      " [1.         0.16281591]\n",
      " [1.         0.38570153]\n",
      " [1.         0.02157887]\n",
      " [1.         0.35425185]\n",
      " [1.         0.89999222]\n",
      " [1.         0.20589374]\n",
      " [1.         0.65677368]\n",
      " [1.         0.46520624]]\n",
      "[[4.42127699]\n",
      " [2.76217093]]\n"
     ]
    }
   ],
   "source": [
    "x_b=np.c_[np.ones((100,1)),x]\n",
    "print(x_b)\n",
    "theta_best=np.linalg.inv(x_b.T.dot(x_b)).dot(x_b.T).dot(y)\n",
    "print(theta_best)"
   ]
  },
  {
   "cell_type": "markdown",
   "metadata": {},
   "source": [
    "使用训练得到的参数进行预测"
   ]
  },
  {
   "cell_type": "code",
   "execution_count": 4,
   "metadata": {},
   "outputs": [
    {
     "name": "stdout",
     "output_type": "stream",
     "text": [
      "[[4.42127699]\n",
      " [9.94561884]]\n"
     ]
    }
   ],
   "source": [
    "x_new=np.array([[0],[2]])\n",
    "x_new_b=np.c_[np.ones((2,1)),x_new]#c_就是左右连接两个矩阵\n",
    "y_predict=x_new_b.dot(theta_best)\n",
    "print(y_predict)"
   ]
  },
  {
   "cell_type": "markdown",
   "metadata": {},
   "source": [
    "画出这个模型的图像"
   ]
  },
  {
   "cell_type": "code",
   "execution_count": 5,
   "metadata": {},
   "outputs": [
    {
     "data": {
      "image/png": "[encoded data removed]",
      "text/plain": [
       "<matplotlib.figure.Figure at 0x1edc68334a8>"
      ]
     },
     "metadata": {},
     "output_type": "display_data"
    }
   ],
   "source": [
    "plt.plot(x_new,y_predict,'r-')\n",
    "plt.plot(x,y,'b.')\n",
    "plt.axis([0,2,0,15])#x轴的范围 与 y轴的范围\n",
    "plt.show()"
   ]
  },
  {
   "cell_type": "markdown",
   "metadata": {},
   "source": [
    "## 使用sklearn可以达到相同效果 ##"
   ]
  },
  {
   "cell_type": "code",
   "execution_count": 6,
   "metadata": {},
   "outputs": [
    {
     "name": "stdout",
     "output_type": "stream",
     "text": [
      "[4.42127699] [[2.76217093]]\n"
     ]
    },
    {
     "data": {
      "text/plain": [
       "array([[4.42127699],\n",
       "       [9.94561884]])"
      ]
     },
     "execution_count": 6,
     "metadata": {},
     "output_type": "execute_result"
    }
   ],
   "source": [
    "from sklearn.linear_model import LinearRegression\n",
    "lin_reg=LinearRegression()\n",
    "lin_reg.fit(x,y)\n",
    "print(lin_reg.intercept_,lin_reg.coef_)\n",
    "lin_reg.predict(x_new)"
   ]
  },
  {
   "cell_type": "markdown",
   "metadata": {},
   "source": [
    "## 批量梯度下降 ##"
   ]
  },
  {
   "cell_type": "code",
   "execution_count": 7,
   "metadata": {},
   "outputs": [
    {
     "name": "stdout",
     "output_type": "stream",
     "text": [
      "[[4.42127699]\n",
      " [2.76217093]]\n"
     ]
    }
   ],
   "source": [
    "eta=0.1 #学习率\n",
    "n_iter=1000\n",
    "m=len(y)\n",
    "theta=np.random.randn(2,1)#随机初始值\n",
    "for iter in range(n_iter):\n",
    "    gradients=2/m*x_b.T.dot(x_b.dot(theta)-y)\n",
    "    theta=theta-eta*gradients\n",
    "print(theta)"
   ]
  },
  {
   "cell_type": "markdown",
   "metadata": {},
   "source": [
    "## 随机梯度下降 ##"
   ]
  },
  {
   "cell_type": "markdown",
   "metadata": {},
   "source": [
    "1. 批量梯度下降用所有数据，比较费时。随机梯度下降用了很少的数据，使得可以在大规模数据集上使用\n",
    "2. 另一方面，由于他的随机性，与批量梯度下降相比，呈现出更多的不规律性，他达到最小值不是平缓的下降，损失函数会忽高忽低，只是在大体上呈下降趋势。随着时间推移，他会非常靠近最小值，但不是不会停在一个值上，而是一直在一个值附近摆动。因此算法停止时，最后参数还不错，但不是最优值\n",
    "3. 当损失函数不规则时，随机梯度下降能够跳过局部最小值，因此随机梯度下降在寻找全局最优值比批量梯度要好\n",
    "4. 虽然可以跳过局部最优，但同时不能达到全局最小值，解决的一个方法时模拟退火，即逐渐降低学习率，开始步子大，变得越来越小"
   ]
  },
  {
   "cell_type": "code",
   "execution_count": 8,
   "metadata": {},
   "outputs": [
    {
     "name": "stdout",
     "output_type": "stream",
     "text": [
      "[[4.47868763]\n",
      " [2.790768  ]]\n"
     ]
    }
   ],
   "source": [
    "n_epochs=50\n",
    "t0,t1=5,50#模拟退火算法超参数\n",
    "def learning_schedule(t):\n",
    "    return t0/(t+t1)\n",
    "theta=np.random.randn(2,1)\n",
    "for epoch in range(n_epochs):\n",
    "    for i in range(m):\n",
    "        random_index=np.random.randint(m)\n",
    "        xi=x_b[random_index:random_index+1]\n",
    "        yi=y[random_index:random_index+1]\n",
    "        #print(xi)\n",
    "        #print(yi)\n",
    "        #input()\n",
    "        gradients=2*xi.T.dot(xi.dot(theta)-yi)\n",
    "        eta=learning_schedule(epoch*m+i)\n",
    "        theta=theta-eta*gradients\n",
    "print(theta)\n",
    " "
   ]
  },
  {
   "cell_type": "markdown",
   "metadata": {},
   "source": [
    "## 使用sklearn完成随机梯度下降 ##"
   ]
  },
  {
   "cell_type": "code",
   "execution_count": 9,
   "metadata": {},
   "outputs": [
    {
     "name": "stdout",
     "output_type": "stream",
     "text": [
      "[4.44841583] [2.80287486]\n"
     ]
    },
    {
     "name": "stderr",
     "output_type": "stream",
     "text": [
      "D:\\anaconda3\\lib\\site-packages\\sklearn\\linear_model\\stochastic_gradient.py:117: DeprecationWarning: n_iter parameter is deprecated in 0.19 and will be removed in 0.21. Use max_iter and tol instead.\n",
      "  DeprecationWarning)\n"
     ]
    }
   ],
   "source": [
    "from sklearn.linear_model import SGDRegressor\n",
    "sgd_reg=SGDRegressor(n_iter=50,penalty=None,eta0=0.1)\n",
    "sgd_reg.fit(x,y.ravel())\n",
    "print(sgd_reg.intercept_,sgd_reg.coef_)"
   ]
  },
  {
   "cell_type": "markdown",
   "metadata": {},
   "source": [
    "## 小批量梯度下降 ##"
   ]
  },
  {
   "cell_type": "markdown",
   "metadata": {},
   "source": [
    "小批量，迭代每一步，使用一个随机小型实数集\n",
    "小批量在参数空间上的表现比随机梯度要好很多，小批量比随机更靠近最小值，但是可能会陷入局部最小值中"
   ]
  },
  {
   "cell_type": "markdown",
   "metadata": {},
   "source": [
    "## 多项式回归 ##"
   ]
  },
  {
   "cell_type": "code",
   "execution_count": 12,
   "metadata": {},
   "outputs": [
    {
     "data": {
      "image/png": "[encoded data removed]",
      "text/plain": [
       "<matplotlib.figure.Figure at 0x1edc47b9860>"
      ]
     },
     "metadata": {},
     "output_type": "display_data"
    }
   ],
   "source": [
    "#生成非线性数据\n",
    "m=100\n",
    "x=6*np.random.rand(m,1)-3\n",
    "y=0.5*x**2+x+2+np.random.randn(m,1)\n",
    "plt.plot(x,y,'b.')\n",
    "plt.axis([-3,3,0,10])#x轴的范围 与 y轴的范围\n",
    "plt.show()"
   ]
  },
  {
   "cell_type": "markdown",
   "metadata": {},
   "source": [
    "可以清楚看出，直线不能恰当的拟合这些数据，于是使用sklean的PolynomiaFeatures类进行训练数据集的转换，让数据集每个特征平方作为新特征（仅存在一个特征）"
   ]
  },
  {
   "cell_type": "code",
   "execution_count": 13,
   "metadata": {},
   "outputs": [
    {
     "name": "stdout",
     "output_type": "stream",
     "text": [
      "[-1.47074532]\n",
      "[-1.47074532  2.1630918 ]\n"
     ]
    }
   ],
   "source": [
    "from sklearn.preprocessing import PolynomialFeatures\n",
    "poly_features=PolynomialFeatures(degree=2,include_bias=False)\n",
    "x_poly=poly_features.fit_transform(x)\n",
    "print(x[0])\n",
    "print(x_poly[0])"
   ]
  },
  {
   "cell_type": "code",
   "execution_count": 33,
   "metadata": {},
   "outputs": [
    {
     "name": "stdout",
     "output_type": "stream",
     "text": [
      "[1.91978418] [[1.05311948 0.50273822]]\n"
     ]
    }
   ],
   "source": [
    "#进行拟合\n",
    "lin_reg=LinearRegression()\n",
    "lin_reg.fit(x_poly,y)\n",
    "print(lin_reg.intercept_,lin_reg.coef_)\n"
   ]
  },
  {
   "cell_type": "code",
   "execution_count": 45,
   "metadata": {},
   "outputs": [
    {
     "name": "stderr",
     "output_type": "stream",
     "text": [
      "D:\\anaconda3\\lib\\site-packages\\ipykernel_launcher.py:12: DeprecationWarning: `spline` is deprecated!\n",
      "spline is deprecated in scipy 0.19.0, use Bspline class instead.\n",
      "  if sys.path[0] == '':\n"
     ]
    },
    {
     "data": {
      "image/png": "[encoded data removed]",
      "text/plain": [
       "<matplotlib.figure.Figure at 0x1edc90a42e8>"
      ]
     },
     "metadata": {},
     "output_type": "display_data"
    }
   ],
   "source": [
    "#dddd=list(range(-3,3,1))\n",
    "#del list\n",
    "\n",
    "from scipy.interpolate import spline\n",
    "num=list(range(-3,3,1))\n",
    "x_new=np.array(num)\n",
    "y_predict=lin_reg.coef_[0][1]*(x_new**2)+lin_reg.coef_[0][0]*x_new+lin_reg.intercept_\n",
    "\n",
    "xnew = np.linspace(x_new.min(),x_new.max(),300) \n",
    "\n",
    "\n",
    "power_smooth = spline(x_new,y_predict,xnew)\n",
    "plt.plot(xnew,power_smooth)\n",
    "plt.plot(x,y,'b.')\n",
    "plt.axis([-3,3,0,10])#x轴的范围 与 y轴的范围\n",
    "plt.show()"
   ]
  },
  {
   "cell_type": "code",
   "execution_count": 44,
   "metadata": {},
   "outputs": [
    {
     "name": "stderr",
     "output_type": "stream",
     "text": [
      "D:\\anaconda3\\lib\\site-packages\\ipykernel_launcher.py:5: DeprecationWarning: `spline` is deprecated!\n",
      "spline is deprecated in scipy 0.19.0, use Bspline class instead.\n",
      "  \"\"\"\n"
     ]
    },
    {
     "data": {
      "text/plain": [
       "[<matplotlib.lines.Line2D at 0x1edc9038cf8>]"
      ]
     },
     "execution_count": 44,
     "metadata": {},
     "output_type": "execute_result"
    },
    {
     "data": {
      "image/png": "[encoded data removed]",
      "text/plain": [
       "<matplotlib.figure.Figure at 0x1edc91224a8>"
      ]
     },
     "metadata": {},
     "output_type": "display_data"
    }
   ],
   "source": [
    "T = np.array([6, 7, 8, 9, 10, 11, 12])\n",
    "power = np.array([1.53E+03, 5.92E+02, 2.04E+02, 7.24E+01, 2.72E+01, 1.10E+01, 4.70E+00])\n",
    "xnew = np.linspace(T.min(), T.max(), 300)  # 300 represents number of points to make between T.min and T.max\n",
    "\n",
    "power_smooth = spline(T, power, xnew)\n",
    "\n",
    "plt.plot(xnew, power_smooth)\n"
   ]
  },
  {
   "cell_type": "code",
   "execution_count": null,
   "metadata": {
    "collapsed": true
   },
   "outputs": [],
   "source": []
  }
 ],
 "metadata": {
  "kernelspec": {
   "display_name": "Python 3",
   "language": "python",
   "name": "python3"
  },
  "language_info": {
   "codemirror_mode": {
    "name": "ipython",
    "version": 3
   },
   "file_extension": ".py",
   "mimetype": "text/x-python",
   "name": "python",
   "nbconvert_exporter": "python",
   "pygments_lexer": "ipython3",
   "version": "3.6.3"
  }
 },
 "nbformat": 4,
 "nbformat_minor": 2
}
